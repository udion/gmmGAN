{
 "cells": [
  {
   "cell_type": "code",
   "execution_count": 4,
   "metadata": {
    "collapsed": true
   },
   "outputs": [],
   "source": [
    "import torch\n",
    "from torch import autograd as agd\n",
    "import torch.nn as nn\n",
    "import torch.nn.functional as F\n",
    "from torchvision import transforms, utils\n",
    "import torchvision\n",
    "import numpy as np\n",
    "import matplotlib as mpl\n",
    "import matplotlib.pyplot as plt\n",
    "import PIL\n",
    "import scipy as sp"
   ]
  },
  {
   "cell_type": "code",
   "execution_count": 6,
   "metadata": {
    "collapsed": true
   },
   "outputs": [],
   "source": [
    "#some global paraeters\n",
    "in_dim = 2\n",
    "nn_dim = 512 #const. throughout\n",
    "batchSz = 400"
   ]
  },
  {
   "cell_type": "code",
   "execution_count": 3,
   "metadata": {
    "collapsed": true
   },
   "outputs": [],
   "source": [
    "class GaussNet(nn.Module):\n",
    "    \n",
    "    def __init__(self):\n",
    "        super(GaussNet, self).__init__()\n",
    "        self.L1 = nn.Linear(in_dim, nn_dim)\n",
    "        self.L2 = nn.Linear(nn_dim, nn_dim)\n",
    "        self.Ou = nn.Linear(nn_dim, 1)\n",
    "    def forward(self, x):\n",
    "        x = F.relu(self.L1(x))\n",
    "        x = F.relu(self.L2(x))\n",
    "        x = F.relu(self.Ou(x))\n",
    "        return x\n",
    "    def name(self):\n",
    "        return 'GaussNet'"
   ]
  },
  {
   "cell_type": "code",
   "execution_count": 5,
   "metadata": {
    "collapsed": true
   },
   "outputs": [],
   "source": [
    "#for dataset creation\n",
    "class GMMsampler:\n",
    "    \n",
    "    def __init__( self, n_samples, n_components=1, weights=[1], mu=[np.array([0,0])], sig=[np.array([[1,0],[0,1]])]):\n",
    "        self.n_components = n_components\n",
    "        self.n_samples = n_samples\n",
    "        self.weights = weights\n",
    "        self.mu = mu\n",
    "        self.sig = sig\n",
    "        self.dim = mu[0].size\n",
    "        self.data = np.empty([n_samples, self.dim])\n",
    "        self.datacid = dict()\n",
    "        \n",
    "    def check_musig(self):\n",
    "        shmu = self.mu[0].shape\n",
    "        shsig = self.sig[0].shape\n",
    "        if(not(all(m.shape==shmu for m in mu))):\n",
    "            print('all mean vectors must be of same dimension')\n",
    "        if(not(all(s.shape==shmu for s in sig))):\n",
    "            print('all covariance matrix must be of same dimension')\n",
    "    \n",
    "    def gen_sample(self):\n",
    "        for i in range(self.n_components):\n",
    "            self.datacid[i] = []\n",
    "        for i in range(self.n_samples):\n",
    "            idx = np.random.choice(np.arange(0,self.n_components), p=(self.weights)/np.sum(self.weights))\n",
    "            mu_,sig_ = self.mu[idx], self.sig[idx]\n",
    "            self.data[i,:] = np.random.multivariate_normal(mu_, sig_)\n",
    "            self.datacid[idx].append(self.data[i,:])\n",
    "        for idx in range(self.n_components):\n",
    "            self.datacid[idx] = np.array(self.datacid[idx]).reshape(-1,2)\n",
    "\n",
    "m1 = np.array([-1, 0])\n",
    "m2 = np.array([1, 0])\n",
    "m3 = np.array([0, 1])\n",
    "m4 = np.array([0, -1])\n",
    "m5 = np.array([1/np.sqrt(2), 1/np.sqrt(2)])\n",
    "m6 = np.array([1/np.sqrt(2), -1/np.sqrt(2)])\n",
    "m7 = np.array([-1/np.sqrt(2), 1/np.sqrt(2)])\n",
    "m8 = np.array([-1/np.sqrt(2), -1/np.sqrt(2)])\n",
    "\n",
    "sig1 = np.eye(2)*0.1414\n",
    "sig2 = np.eye(2)*0.1414\n",
    "sig3 = np.eye(2)*0.1414\n",
    "sig4 = np.eye(2)*0.1414\n",
    "sig5 = np.eye(2)*0.1414\n",
    "sig6 = np.eye(2)*0.1414\n",
    "sig7 = np.eye(2)*0.1414\n",
    "sig8 = np.eye(2)*0.1414"
   ]
  },
  {
   "cell_type": "code",
   "execution_count": 7,
   "metadata": {
    "collapsed": true
   },
   "outputs": [],
   "source": [
    "#training data generator\n",
    "def traindata_gen():\n",
    "    g = GMMsampler(batchSz, n_components=8, weights=[1, 1, 1, 1, 1, 1, 1, 1],\n",
    "                  mu=[m1,m2,m3,m4,m5,m6,m7,m8], sig=[sig1,sig2,sig3,sig4,sig5,sig6,sig7,sig8])\n",
    "    while(True):\n",
    "        g.gen_sample()\n",
    "        yield g.data"
   ]
  },
  {
   "cell_type": "code",
   "execution_count": 14,
   "metadata": {},
   "outputs": [],
   "source": [
    "d = traindata_gen()"
   ]
  },
  {
   "cell_type": "code",
   "execution_count": 57,
   "metadata": {},
   "outputs": [
    {
     "data": {
      "image/png": "[encoded data removed]",
      "text/plain": [
       "<matplotlib.figure.Figure at 0x7f71ad3e2b38>"
      ]
     },
     "metadata": {},
     "output_type": "display_data"
    }
   ],
   "source": [
    "d_ = next(d)\n",
    "plt.scatter(d_[:,0], d_[:,1])\n",
    "plt.show()"
   ]
  }
 ],
 "metadata": {
  "kernelspec": {
   "display_name": "Python 3",
   "language": "python",
   "name": "python3"
  },
  "language_info": {
   "codemirror_mode": {
    "name": "ipython",
    "version": 3
   },
   "file_extension": ".py",
   "mimetype": "text/x-python",
   "name": "python",
   "nbconvert_exporter": "python",
   "pygments_lexer": "ipython3",
   "version": "3.6.2"
  }
 },
 "nbformat": 4,
 "nbformat_minor": 2
}
