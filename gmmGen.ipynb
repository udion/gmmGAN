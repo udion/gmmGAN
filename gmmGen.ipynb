{
 "cells": [
  {
   "cell_type": "code",
   "execution_count": 1,
   "metadata": {
    "collapsed": true
   },
   "outputs": [],
   "source": [
    "import matplotlib.pyplot as plt\n",
    "import numpy as np\n",
    "import scipy as sp"
   ]
  },
  {
   "cell_type": "code",
   "execution_count": 243,
   "metadata": {},
   "outputs": [],
   "source": [
    "class GMMsampler:\n",
    "    \n",
    "    def __init__( self, n_samples, n_components=1, weights=[1], mu=[np.array([0,0])], sig=[np.array([[1,0],[0,1]])]):\n",
    "        self.n_components = n_components\n",
    "        self.n_samples = n_samples\n",
    "        self.weights = weights\n",
    "        self.mu = mu\n",
    "        self.sig = sig\n",
    "        self.dim = mu[0].size\n",
    "        self.data = np.empty([n_samples, self.dim])\n",
    "        self.datacid = dict()\n",
    "        \n",
    "    def check_musig(self):\n",
    "        shmu = self.mu[0].shape\n",
    "        shsig = self.sig[0].shape\n",
    "        if(not(all(m.shape==shmu for m in mu))):\n",
    "            print('all mean vectors must be of same dimension')\n",
    "        if(not(all(s.shape==shmu for s in sig))):\n",
    "            print('all covariance matrix must be of same dimension')\n",
    "    \n",
    "    def gen_sample(self):\n",
    "        for i in range(self.n_components):\n",
    "            self.datacid[i] = []\n",
    "        for i in range(self.n_samples):\n",
    "            idx = np.random.choice(np.arange(0,self.n_components), p=(self.weights)/np.sum(self.weights))\n",
    "            mu_,sig_ = self.mu[idx], self.sig[idx]\n",
    "            self.data[i,:] = np.random.multivariate_normal(mu_, sig_)\n",
    "            self.datacid[idx].append(self.data[i,:])\n",
    "        for idx in range(self.n_components):\n",
    "            self.datacid[idx] = np.array(self.datacid[idx]).reshape(-1,2)"
   ]
  },
  {
   "cell_type": "code",
   "execution_count": 244,
   "metadata": {},
   "outputs": [],
   "source": [
    "m1 = np.array([1,0])\n",
    "m2 = np.array([0,3])\n",
    "m3 = np.array([4,1])\n",
    "sig1 = np.random.rand(2,2)\n",
    "sig2 = np.random.rand(2,2)\n",
    "sig3 = np.random.rand(2,2)\n",
    "g = GMMsampler(400,3,weights=[0.3, 0.5, 0.2], mu=[m1, m2, m3], sig=[sig1, sig2, sig3])"
   ]
  },
  {
   "cell_type": "code",
   "execution_count": 246,
   "metadata": {},
   "outputs": [
    {
     "name": "stderr",
     "output_type": "stream",
     "text": [
      "/home/udion/Misc/anaconda3/lib/python3.6/site-packages/ipykernel_launcher.py:27: RuntimeWarning: covariance is not positive-semidefinite.\n"
     ]
    }
   ],
   "source": [
    "g.gen_sample()"
   ]
  },
  {
   "cell_type": "code",
   "execution_count": 249,
   "metadata": {},
   "outputs": [
    {
     "data": {
      "text/plain": [
       "array([-0.27728597,  0.39848606,  0.52210547,  0.02192753,  0.56756448,\n",
       "       -1.16104564,  0.57067989,  1.10333413, -0.09271835,  1.13542714,\n",
       "        0.42835788,  1.46949603, -0.28596838,  1.3875214 , -0.48790983,\n",
       "       -0.09359359, -0.64897191,  0.00372418,  0.90473907, -0.00417413,\n",
       "        1.77330345,  0.39065731,  0.4960232 , -0.5655779 ,  1.18563909,\n",
       "       -0.91054572,  0.25212093,  0.43890721, -1.6147508 ,  0.09775563,\n",
       "        0.28339397,  0.65691388,  1.47745281,  0.36862118,  0.95852415,\n",
       "       -0.02344753,  0.14392525,  0.27207934,  0.0031704 ,  0.58524206,\n",
       "        0.2629916 ,  0.0976081 ,  0.82133287, -0.08212991,  0.74760918,\n",
       "       -0.09849501, -0.08490546,  0.41532561, -0.61115078, -0.69401894,\n",
       "       -0.23159189, -0.37775964, -1.3420245 , -0.90208481, -0.20753891,\n",
       "        0.64259668, -0.48435523, -0.40375687, -0.1910805 ,  1.06719271,\n",
       "        0.41486498,  0.89522718, -0.70443176, -0.58943944,  0.67463914,\n",
       "       -1.15537289, -0.10727897,  0.22865004,  0.35265478,  0.4823745 ,\n",
       "       -0.59618681,  0.15857784,  0.02045906, -0.5052339 , -0.01048004,\n",
       "       -0.1466576 ,  0.34318364,  0.46796467,  0.5853372 ,  0.82118733,\n",
       "        0.17609415,  0.38239355,  0.71292249, -0.36782534, -0.9636516 ,\n",
       "       -0.64930411,  0.8426222 ,  0.96708641, -0.57585705, -0.41565889,\n",
       "       -0.53495407, -0.8734137 ,  0.12933058,  1.22712808,  0.58840923,\n",
       "        0.08662027,  1.82336813, -0.24153131,  0.07186574, -0.17988575,\n",
       "       -0.22118283, -0.34696998,  0.49822083,  0.55585096,  0.47477063,\n",
       "       -0.27166949,  0.24421216,  0.40896356,  0.95750599, -0.35088922,\n",
       "       -1.32272234,  0.36857353, -1.40883225, -0.52743458,  0.32436786,\n",
       "       -0.47641109, -0.42418395,  0.4639671 ,  1.16732071,  0.3770004 ,\n",
       "        0.04463062, -0.22629909, -1.24695879, -0.98022931, -0.98436306,\n",
       "       -0.00229611,  0.5354964 , -0.12615561, -0.06491055])"
      ]
     },
     "execution_count": 249,
     "metadata": {},
     "output_type": "execute_result"
    }
   ],
   "source": [
    "g.datacid[0][:,1]"
   ]
  },
  {
   "cell_type": "code",
   "execution_count": 252,
   "metadata": {},
   "outputs": [
    {
     "data": {
      "image/png": "[encoded data removed]",
      "text/plain": [
       "<matplotlib.figure.Figure at 0x7f608c0631d0>"
      ]
     },
     "metadata": {},
     "output_type": "display_data"
    }
   ],
   "source": [
    "#plt.scatter(g.data[:,0],g.data[:,1])\n",
    "plt.scatter(g.datacid[0][:,0], g.datacid[0][:,1])\n",
    "plt.scatter(g.datacid[1][:,0], g.datacid[1][:,1])\n",
    "plt.scatter(g.datacid[2][:,0], g.datacid[2][:,1])\n",
    "plt.show()"
   ]
  }
 ],
 "metadata": {
  "kernelspec": {
   "display_name": "Python 3",
   "language": "python",
   "name": "python3"
  },
  "language_info": {
   "codemirror_mode": {
    "name": "ipython",
    "version": 3
   },
   "file_extension": ".py",
   "mimetype": "text/x-python",
   "name": "python",
   "nbconvert_exporter": "python",
   "pygments_lexer": "ipython3",
   "version": "3.6.2"
  }
 },
 "nbformat": 4,
 "nbformat_minor": 2
}
