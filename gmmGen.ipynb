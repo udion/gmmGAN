{
 "cells": [
  {
   "cell_type": "code",
   "execution_count": 1,
   "metadata": {
    "collapsed": true
   },
   "outputs": [],
   "source": [
    "import matplotlib.pyplot as plt\n",
    "import numpy as np\n",
    "import scipy as sp"
   ]
  },
  {
   "cell_type": "code",
   "execution_count": 21,
   "metadata": {
    "collapsed": true
   },
   "outputs": [],
   "source": [
    "def multivargauss(mu, sig):\n",
    "    n_dim = mu.shape[0]\n",
    "    x = np.random.rand(n_dim)\n",
    "    u = x-mu\n",
    "    sig_inv = np.linalg.inv(sig)\n",
    "    \n",
    "    print(np.dot(u.T, sig_inv, u))"
   ]
  },
  {
   "cell_type": "code",
   "execution_count": 22,
   "metadata": {},
   "outputs": [
    {
     "name": "stdout",
     "output_type": "stream",
     "text": [
      "[-1.40774316 -2.09111397]\n"
     ]
    }
   ],
   "source": [
    "multivargauss(np.array([1,2]), np.random.rand(2,2))"
   ]
  },
  {
   "cell_type": "code",
   "execution_count": 60,
   "metadata": {},
   "outputs": [],
   "source": [
    "def MultiVarGaussGen(n_dim, n_samples, mu=0, sigma=1):\n",
    "    l = []\n",
    "    for i in range(n_samples):\n",
    "        l.append(np.random.rand(1,n_dim))\n",
    "    l = np.array(l)\n",
    "    print(l)\n",
    "    l = l.reshape(-1,2)\n",
    "    print(l)\n",
    "    return l"
   ]
  },
  {
   "cell_type": "code",
   "execution_count": 126,
   "metadata": {},
   "outputs": [
    {
     "name": "stderr",
     "output_type": "stream",
     "text": [
      "/home/udion/Misc/anaconda3/lib/python3.6/site-packages/ipykernel_launcher.py:5: RuntimeWarning: covariance is not positive-semidefinite.\n",
      "  \"\"\"\n",
      "/home/udion/Misc/anaconda3/lib/python3.6/site-packages/ipykernel_launcher.py:6: RuntimeWarning: covariance is not positive-semidefinite.\n",
      "  \n"
     ]
    },
    {
     "data": {
      "image/png": "[encoded data removed]",
      "text/plain": [
       "<matplotlib.figure.Figure at 0x7f607f950fd0>"
      ]
     },
     "metadata": {},
     "output_type": "display_data"
    }
   ],
   "source": [
    "mu1 = 1*np.ones(2)\n",
    "mu2 = -1*np.ones(2)\n",
    "sig1 = np.random.rand(2,2)\n",
    "sig2 = np.random.rand(2,2)\n",
    "v1 = np.random.multivariate_normal(mu1, sig1, 300)\n",
    "v2 = np.random.multivariate_normal(mu2, sig2, 300)\n",
    "v = v1+v2\n",
    "plt.scatter(v[:,0], v[:,1])\n",
    "plt.scatter(v1[:,0], v1[:,1])\n",
    "plt.scatter(v2[:,0], v2[:,1])\n",
    "plt.show()"
   ]
  },
  {
   "cell_type": "code",
   "execution_count": 157,
   "metadata": {},
   "outputs": [
    {
     "data": {
      "text/plain": [
       "6"
      ]
     },
     "execution_count": 157,
     "metadata": {},
     "output_type": "execute_result"
    }
   ],
   "source": [
    "np.random.choice(np.arange(1, 7), p=[0.1, 0.05, 0.05, 0.2, 0.4, 0.2])"
   ]
  },
  {
   "cell_type": "code",
   "execution_count": 187,
   "metadata": {},
   "outputs": [
    {
     "data": {
      "text/plain": [
       "array([[ 0.62043055,  0.50453371,  0.42510704],\n",
       "       [ 0.50470004,  0.74966019,  0.07815708],\n",
       "       [ 0.86150903,  0.46715713,  0.53831687]])"
      ]
     },
     "execution_count": 187,
     "metadata": {},
     "output_type": "execute_result"
    }
   ],
   "source": [
    "np.random.rand(3,3)"
   ]
  },
  {
   "cell_type": "code",
   "execution_count": 177,
   "metadata": {},
   "outputs": [],
   "source": [
    "class GMMsampler:\n",
    "    \n",
    "    def __init__( self, n_samples, n_components=1, weights=[1], mu=[np.array([0,0])], sig=[np.array([[1,0],[0,1]])]):\n",
    "        self.n_components = n_components\n",
    "        self.n_samples = n_samples\n",
    "        self.weights = weights\n",
    "        self.mu = mu\n",
    "        self.sig = sig\n",
    "        self.dim = mu[0].size\n",
    "        self.data = np.empty([n_samples, self.dim])\n",
    "        \n",
    "    def check_musig(self):\n",
    "        shmu = self.mu[0].shape\n",
    "        shsig = self.sig[0].shape\n",
    "        if(not(all(m.shape==shmu for m in mu))):\n",
    "            print('all mean vectors must be of same dimension')\n",
    "        if(not(all(s.shape==shmu for s in sig))):\n",
    "            print('all covariance matrix must be of same dimension')\n",
    "    \n",
    "    def gen_sample(self):\n",
    "        for i in range(self.n_samples):\n",
    "            idx = np.random.choice(np.arange(0,self.n_components), p=(self.weights)/np.sum(self.weights))\n",
    "            mu_,sig_ = self.mu[idx], self.sig[idx]\n",
    "            self.data[i,:] = np.random.multivariate_normal(mu_, sig_)"
   ]
  },
  {
   "cell_type": "code",
   "execution_count": 188,
   "metadata": {},
   "outputs": [],
   "source": [
    "m1 = np.array([1,0])\n",
    "m2 = np.array([0,3])\n",
    "sig1 = np.random.rand(2,2)\n",
    "sig2 = np.random.rand(2,2)\n",
    "g = GMMsampler(200,2,weights=[0.6, 0.4], mu=[m1, m2], sig=[sig1, sig2])"
   ]
  },
  {
   "cell_type": "code",
   "execution_count": 193,
   "metadata": {},
   "outputs": [
    {
     "name": "stderr",
     "output_type": "stream",
     "text": [
      "/home/udion/Misc/anaconda3/lib/python3.6/site-packages/ipykernel_launcher.py:24: RuntimeWarning: covariance is not positive-semidefinite.\n"
     ]
    }
   ],
   "source": [
    "g.gen_sample()"
   ]
  },
  {
   "cell_type": "code",
   "execution_count": 194,
   "metadata": {},
   "outputs": [
    {
     "data": {
      "image/png": "[encoded data removed]",
      "text/plain": [
       "<matplotlib.figure.Figure at 0x7f607f77be10>"
      ]
     },
     "metadata": {},
     "output_type": "display_data"
    }
   ],
   "source": [
    "plt.scatter(g.data[:,0],g.data[:,1])\n",
    "plt.show()"
   ]
  }
 ],
 "metadata": {
  "kernelspec": {
   "display_name": "Python 3",
   "language": "python",
   "name": "python3"
  },
  "language_info": {
   "codemirror_mode": {
    "name": "ipython",
    "version": 3
   },
   "file_extension": ".py",
   "mimetype": "text/x-python",
   "name": "python",
   "nbconvert_exporter": "python",
   "pygments_lexer": "ipython3",
   "version": "3.6.2"
  }
 },
 "nbformat": 4,
 "nbformat_minor": 2
}
